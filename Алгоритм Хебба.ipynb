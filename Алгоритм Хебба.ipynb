{
 "cells": [
  {
   "cell_type": "code",
   "execution_count": 2,
   "id": "62bc5916",
   "metadata": {
    "scrolled": false
   },
   "outputs": [],
   "source": [
    "#Код ниже представляет пример реализации алгоритма Хебба для логической операции И (AND) на языке Python:"
   ]
  },
  {
   "cell_type": "code",
   "execution_count": 42,
   "id": "b28d150f",
   "metadata": {},
   "outputs": [],
   "source": [
    "# Входные данные\n",
    "inputs = [[1, 1], [1, 0], [0, 1], [0, 0]]\n",
    "outputs = [1, 0, 0, 0]"
   ]
  },
  {
   "cell_type": "code",
   "execution_count": 43,
   "id": "5368846f",
   "metadata": {},
   "outputs": [],
   "source": [
    "# Инициализация весов\n",
    "weights = [0, 0]"
   ]
  },
  {
   "cell_type": "code",
   "execution_count": 44,
   "id": "5ccc858e",
   "metadata": {},
   "outputs": [],
   "source": [
    "# Коэффициент обучения\n",
    "learning_rate = 10"
   ]
  },
  {
   "cell_type": "code",
   "execution_count": 45,
   "id": "cc3edbc8",
   "metadata": {},
   "outputs": [
    {
     "name": "stdout",
     "output_type": "stream",
     "text": [
      "Результат: 0\n"
     ]
    }
   ],
   "source": [
    "# Проведение обучения\n",
    "for i in range(len(inputs)):\n",
    "    # Получение входных данных и ожидаемого выхода\n",
    "    x = inputs[i]\n",
    "    target = outputs[i]\n",
    "\n",
    "    # Вычисление взвешенной суммы\n",
    "    weighted_sum = 0\n",
    "    for j in range(len(x)):\n",
    "        weighted_sum += x[j] * weights[j]\n",
    "\n",
    "    # Применение функции активации (в данном случае, пороговая функция)\n",
    "    if weighted_sum > 0:\n",
    "        output = 1\n",
    "    else:\n",
    "        output = 0\n",
    "\n",
    "    # Вычисление ошибки\n",
    "    error = target - output\n",
    "\n",
    "    # Обновление весов\n",
    "    for j in range(len(x)):\n",
    "        weights[j] += learning_rate * error * x[j]\n",
    "        \n"
   ]
  },
  {
   "cell_type": "code",
   "execution_count": 48,
   "id": "e29ef0b6",
   "metadata": {},
   "outputs": [
    {
     "name": "stdout",
     "output_type": "stream",
     "text": [
      "Результат: 1\n"
     ]
    }
   ],
   "source": [
    "# Проверка обученной модели на новых данных\n",
    "new_input = [1, 1]\n",
    "weighted_sum = 1\n",
    "for j in range(len(new_input)):\n",
    "    weighted_sum += new_input[j] * weights[j]\n",
    "\n",
    "if weighted_sum > 0:\n",
    "    output = 1\n",
    "else:\n",
    "    output = 0\n",
    "print(\"Результат:\", output)"
   ]
  },
  {
   "cell_type": "code",
   "execution_count": null,
   "id": "820d7ba7",
   "metadata": {},
   "outputs": [],
   "source": []
  }
 ],
 "metadata": {
  "kernelspec": {
   "display_name": "Python 3 (ipykernel)",
   "language": "python",
   "name": "python3"
  },
  "language_info": {
   "codemirror_mode": {
    "name": "ipython",
    "version": 3
   },
   "file_extension": ".py",
   "mimetype": "text/x-python",
   "name": "python",
   "nbconvert_exporter": "python",
   "pygments_lexer": "ipython3",
   "version": "3.9.13"
  }
 },
 "nbformat": 4,
 "nbformat_minor": 5
}
